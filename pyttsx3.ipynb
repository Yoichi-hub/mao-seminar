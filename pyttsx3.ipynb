{
  "nbformat": 4,
  "nbformat_minor": 0,
  "metadata": {
    "colab": {
      "name": "Untitled15.ipynb",
      "provenance": [],
      "authorship_tag": "ABX9TyPXCRMqur9UQ15nrWddWeNr",
      "include_colab_link": true
    },
    "kernelspec": {
      "name": "python3",
      "display_name": "Python 3"
    },
    "language_info": {
      "name": "python"
    }
  },
  "cells": [
    {
      "cell_type": "markdown",
      "metadata": {
        "id": "view-in-github",
        "colab_type": "text"
      },
      "source": [
        "<a href=\"https://colab.research.google.com/github/Yoichi-hub/mao-seminar/blob/master/pyttsx3.ipynb\" target=\"_parent\"><img src=\"https://colab.research.google.com/assets/colab-badge.svg\" alt=\"Open In Colab\"/></a>"
      ]
    },
    {
      "cell_type": "code",
      "execution_count": null,
      "metadata": {
        "id": "t76haf5I5sCd"
      },
      "outputs": [],
      "source": [
        "import pyttsx3\n",
        "import os\n",
        "import re\n",
        "\n",
        "file_name=\"/Users/yoichimakise/Desktop/test.txt\"\n",
        "engine = pyttsx3.init()\n",
        "\n",
        "f=open(file_name,'r')\n",
        "data=f.read()\n",
        "data1=re.sub('\\n','',data)\n",
        "print(data1)\n",
        "\n",
        "\n",
        "engine.say(data1)\n",
        "engine.runAndWait()"
      ]
    }
  ]
}